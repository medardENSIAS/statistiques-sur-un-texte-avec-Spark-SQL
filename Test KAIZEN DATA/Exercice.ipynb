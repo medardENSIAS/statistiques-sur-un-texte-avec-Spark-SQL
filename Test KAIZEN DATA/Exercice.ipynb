{
 "cells": [
  {
   "cell_type": "markdown",
   "metadata": {},
   "source": [
    "# Test Technique"
   ]
  },
  {
   "cell_type": "markdown",
   "metadata": {},
   "source": [
    "TCHAMDJA Yaovi                 "
   ]
  },
  {
   "cell_type": "markdown",
   "metadata": {},
   "source": [
    "1- Write a Python program that matches a string that has an a followed by zero or more b's"
   ]
  },
  {
   "cell_type": "code",
   "execution_count": 2,
   "metadata": {},
   "outputs": [],
   "source": [
    "import re\n",
    "def string_match_zero_or_more_b(string):\n",
    "    if re.search(r'ab*',string):\n",
    "        return('Found a match')\n",
    "    else:\n",
    "        return('Not matched')"
   ]
  },
  {
   "cell_type": "code",
   "execution_count": 3,
   "metadata": {},
   "outputs": [
    {
     "name": "stdout",
     "output_type": "stream",
     "text": [
      "Found a match\n",
      "Found a match\n",
      "Not matched\n",
      "Found a match\n"
     ]
    }
   ],
   "source": [
    "print( string_match_zero_or_more_b('aaabb'))\n",
    "print( string_match_zero_or_more_b('bbdjdabn'))\n",
    "print( string_match_zero_or_more_b('bbbcbbbr'))\n",
    "print( string_match_zero_or_more_b('bao'))"
   ]
  },
  {
   "cell_type": "markdown",
   "metadata": {},
   "source": [
    "2-Write a Python program to find sequences of one upper case letter followed by lower\n",
    "case letters"
   ]
  },
  {
   "cell_type": "code",
   "execution_count": 4,
   "metadata": {},
   "outputs": [],
   "source": [
    "def sequences_of_upper_lower_letters(string):\n",
    "\tpatterns = '[A-Z][a-z]+'\n",
    "\tliste = re.findall(patterns,string, flags=0)\n",
    "\tif liste == []:\n",
    "\t\treturn(\"Not sequences found\")\n",
    "\telse:\n",
    "\t\treturn \"sequences: \"+ str(liste)"
   ]
  },
  {
   "cell_type": "code",
   "execution_count": 5,
   "metadata": {},
   "outputs": [
    {
     "name": "stdout",
     "output_type": "stream",
     "text": [
      "sequences: ['Bbdhd', 'Fgdd', 'Dyek']\n",
      "Not sequences found\n",
      "Not sequences found\n",
      "Not sequences found\n"
     ]
    }
   ],
   "source": [
    "print(sequences_of_upper_lower_letters(\"guxBbdhdFgddGYIGDyek\"))\n",
    "print(sequences_of_upper_lower_letters(\"aaaigyigdvdB\"))\n",
    "print(sequences_of_upper_lower_letters(\"--?B_a aaigyigdvdB\"))\n",
    "print(sequences_of_upper_lower_letters(\"1FF2ddvdB\"))"
   ]
  },
  {
   "cell_type": "markdown",
   "metadata": {},
   "source": [
    "3- Write a Python program that matches a string that has an 'a' followed by anything,\n",
    "ending in 'b'"
   ]
  },
  {
   "cell_type": "code",
   "execution_count": 6,
   "metadata": {},
   "outputs": [],
   "source": [
    "def word_match(text):\n",
    "    patterns = 'a.*b$'\n",
    "    if re.search(patterns, text):\n",
    "        return('Found a match')\n",
    "    else:\n",
    "        return('Not matched')"
   ]
  },
  {
   "cell_type": "code",
   "execution_count": 7,
   "metadata": {},
   "outputs": [
    {
     "name": "stdout",
     "output_type": "stream",
     "text": [
      "Found a match\n",
      "Not matched\n",
      "Found a match\n",
      "Not matched\n"
     ]
    }
   ],
   "source": [
    "print(word_match('addidkjb'))\n",
    "print(word_match('addidkjdibdi'))\n",
    "print(word_match('---dbdaddidkjb'))\n",
    "print(word_match('ad6596didkjbB'))"
   ]
  },
  {
   "cell_type": "markdown",
   "metadata": {},
   "source": [
    "4- Write a Python program that matches a word containing 'z', not start or end of the word"
   ]
  },
  {
   "cell_type": "code",
   "execution_count": 8,
   "metadata": {},
   "outputs": [],
   "source": [
    "import re\n",
    "def word_match(text):\n",
    "    patterns = '\\Bz\\B'\n",
    "    if re.search(patterns,  text):\n",
    "        return ('Found a match')\n",
    "    else:\n",
    "        return('Not matched')"
   ]
  },
  {
   "cell_type": "code",
   "execution_count": 9,
   "metadata": {},
   "outputs": [
    {
     "name": "stdout",
     "output_type": "stream",
     "text": [
      "Not matched\n",
      "Not matched\n",
      "Found a match\n",
      "Not matched\n",
      "Found a match\n"
     ]
    }
   ],
   "source": [
    "print(word_match(\"zoflkjfnoifflf\"))\n",
    "print(word_match(\"ojboez\"))\n",
    "print(word_match(\"ojboezidbdiudd jbndioldhn jkdn\"))\n",
    "print(word_match(\"ojboez bid dkjdnid\"))\n",
    "print(word_match(\"ojboezdiudhdbid\"))"
   ]
  },
  {
   "cell_type": "markdown",
   "metadata": {},
   "source": [
    "5- Write a Python program to split a string with multiple delimiters"
   ]
  },
  {
   "cell_type": "code",
   "execution_count": 10,
   "metadata": {},
   "outputs": [
    {
     "data": {
      "text/plain": [
       "['particular',\n",
       " 'piece',\n",
       " 'of',\n",
       " 'writing',\n",
       " 'that',\n",
       " 'is',\n",
       " 'the',\n",
       " 'of',\n",
       " 'work',\n",
       " 'is']"
      ]
     },
     "execution_count": 10,
     "metadata": {},
     "output_type": "execute_result"
    }
   ],
   "source": [
    "list_of_separator =':|;| |,|\\n|\\*|\\.'\n",
    "text = \"particular. piece of writing; that is, the of \\nwork. is \"\n",
    "[item for item in re.split(list_of_separator,text) if item]"
   ]
  },
  {
   "cell_type": "markdown",
   "metadata": {},
   "source": [
    "6- Write a Python program to find all adverbs and their positions in a given sentence (do\n",
    "this exercise for English adverbs and French adverbs)"
   ]
  },
  {
   "cell_type": "markdown",
   "metadata": {},
   "source": [
    "In English "
   ]
  },
  {
   "cell_type": "code",
   "execution_count": 11,
   "metadata": {},
   "outputs": [],
   "source": [
    "some_irregular_adverbs_EN = ['above','behind','here','there ','pstairs','afterwards','already','now','once','soon',\n",
    "'still','today','always','never','often','also','even','somewhat','too','anyway','besides',\n",
    "'somehow','therefore','thus','however','nevertheless','otherwise']"
   ]
  },
  {
   "cell_type": "code",
   "execution_count": 12,
   "metadata": {},
   "outputs": [],
   "source": [
    "def EN_adverbs_and_its_position_finding(text):\n",
    "\tlist_of_adv = []\n",
    "\ttext = text.lower()\n",
    "\tfor item in re.finditer(r\"\\w+ly\", text):\n",
    "\t    list_of_adv.append((str(item.start())+'-'+ str(item.end())+' :'+item.group(0)))\n",
    "\tfor adverb  in some_irregular_adverbs_EN:\n",
    "\t\tfor item in re.finditer(adverb , text):\n",
    "\t\t\tlist_of_adv.append((str(item.start())+'-'+ str(item.end())+' :'+item.group(0)))\n",
    "\treturn list_of_adv"
   ]
  },
  {
   "cell_type": "code",
   "execution_count": 13,
   "metadata": {},
   "outputs": [
    {
     "data": {
      "text/plain": [
       "['0-13 :intelligently',\n",
       " '19-25 :slowly',\n",
       " '40-49 :precisely',\n",
       " '50-56 :slowly',\n",
       " '57-64 :clearly',\n",
       " '26-31 :never',\n",
       " '113-117 :even',\n",
       " '118-121 :too',\n",
       " '76-82 :anyway']"
      ]
     },
     "execution_count": 13,
     "metadata": {},
     "output_type": "execute_result"
    }
   ],
   "source": [
    "text = \"intelligently slow slowly never precise precisely slowly Clearly,\\\n",
    "\the has no anyway excuse for such behavior well even Too\" \n",
    "EN_adverbs_and_its_position_finding(text)"
   ]
  },
  {
   "cell_type": "markdown",
   "metadata": {},
   "source": [
    "In French"
   ]
  },
  {
   "cell_type": "code",
   "execution_count": 14,
   "metadata": {},
   "outputs": [],
   "source": [
    "some_irregular_adverbs_FR =[\"ailleurs\",\"autour\",\"avant\",\"dedans\",\"dehors\",\"derrière\",\"dessous\",\"dessus\",\"devant\",\"ici\",\n",
    "\"là\",\"loin\",\"partout\",\"près\",\"alors\",\"après\",\"après-demain\",\"aujourd'hui\",\"aussitôt\",\"avant\",\n",
    "\"avant-hier\",\"bientôt\",\"déjà\",\"demain\",\"depuis\",\"encore\",\"enfin\",\"ensuite\",\"hier\",\"jamais\",\n",
    "\"longtemps\",\"maintenant\",\"parfois\",\"puis\",\"quelquefois\",\"soudain\",\"souvent\",\"tard\",\"tôt\",\"toujours\",\n",
    "\"ainsi\",\"bien\",\"comme\",\"debout\",\"ensemble\",\"exprès\",\"gratis\",\"mal\",\"mieux\",\"plutôt\",\"vite\",\n",
    "\"assez\",\"aussi\",\"autant\",\"beaucoup\",\"moins\",\"peu\",\"plus\",\"presque\",\"tout\",\"très\"]"
   ]
  },
  {
   "cell_type": "code",
   "execution_count": 15,
   "metadata": {},
   "outputs": [],
   "source": [
    "def FR_adverbs_and_its_position_finding(text):\n",
    "\tlist_of_adv = []\n",
    "\ttext = text.lower()\n",
    "\tfor item in re.finditer(r\"\\w+ment\", text):\n",
    "\t    list_of_adv.append((str(item.start())+'-'+ str(item.end())+' :'+item.group(0)))\n",
    "\tfor adverb  in some_irregular_adverbs_FR:\n",
    "\t\tfor item in re.finditer(adverb , text):\n",
    "\t\t\tlist_of_adv.append((str(item.start())+'-'+ str(item.end())+' :'+item.group(0)))\n",
    "\treturn list_of_adv"
   ]
  },
  {
   "cell_type": "code",
   "execution_count": 16,
   "metadata": {},
   "outputs": [
    {
     "data": {
      "text/plain": [
       "['35-43 :joliment',\n",
       " '83-91 :gaiement',\n",
       " '118-128 :clairement',\n",
       " '179-193 :courageusement',\n",
       " '194-202 :vraiment',\n",
       " '14-16 :là',\n",
       " '130-137 :souvent',\n",
       " '59-67 :ensemble',\n",
       " '160-164 :tout']"
      ]
     },
     "execution_count": 16,
     "metadata": {},
     "output_type": "execute_result"
    }
   ],
   "source": [
    "text = \"L'adverbe est là un mot invariable joliment qui précise ou ensemble change le sens gaiement d'un verbe, \\\n",
    "d'un adjectif,clairement  souvent ou d'un autre adverbe tout ourageuse --> courageusement vraiment.\" \n",
    "FR_adverbs_and_its_position_finding(text)"
   ]
  },
  {
   "cell_type": "markdown",
   "metadata": {},
   "source": [
    "7- write a Python program to find all Dates in a text (Both French Format and English\n",
    "Format )"
   ]
  },
  {
   "cell_type": "code",
   "execution_count": 17,
   "metadata": {},
   "outputs": [],
   "source": [
    "from dateparser.search import search_dates\n",
    "def find_dates_in_text(text):\n",
    "\tfor date in search_dates(text):\n",
    "\t\tprint(str(date[0])+' <-------------->  '+str(date[1]))"
   ]
  },
  {
   "cell_type": "markdown",
   "metadata": {},
   "source": [
    "English"
   ]
  },
  {
   "cell_type": "code",
   "execution_count": 19,
   "metadata": {},
   "outputs": [
    {
     "name": "stdout",
     "output_type": "stream",
     "text": [
      "January 4th, 2017 at 8:00pm <-------------->  2017-01-04 20:00:00\n",
      "2018-01-18 <-------------->  2018-01-18 00:00:00\n",
      "on July 14th, 2015 <-------------->  2015-07-14 00:00:00\n"
     ]
    }
   ],
   "source": [
    "text = \"entries are due by January 4th, 2017 at 8:00pm created by ACME Inc.\\\n",
    "and associates 2018-01-18 Your appointment is on July 14th, 2015\"\n",
    "find_dates_in_text(text)"
   ]
  },
  {
   "cell_type": "markdown",
   "metadata": {},
   "source": [
    "French"
   ]
  },
  {
   "cell_type": "code",
   "execution_count": 26,
   "metadata": {},
   "outputs": [
    {
     "name": "stdout",
     "output_type": "stream",
     "text": [
      "le 3 juillet 2019 et le <-------------->  2019-07-03 00:00:00\n",
      "le 4 Août 1990 <-------------->  1990-08-04 00:00:00\n",
      "le 13/06/05 <-------------->  2005-06-13 00:00:00\n"
     ]
    }
   ],
   "source": [
    "text1 = \"le 3 juillet 2019 et le il a dit qu'il est né le  4 Août 1990 ddj le 13/06/05\"\n",
    "find_dates_in_text(text1)"
   ]
  },
  {
   "cell_type": "markdown",
   "metadata": {},
   "source": [
    "Reference:\n",
    "\n",
    "https://docs.python.org/3/howto/regex.html\n",
    "\n",
    "https://docs.python.org/fr/3/library/re.html"
   ]
  },
  {
   "cell_type": "code",
   "execution_count": null,
   "metadata": {},
   "outputs": [],
   "source": []
  }
 ],
 "metadata": {
  "kernelspec": {
   "display_name": "Python 3",
   "language": "python",
   "name": "python3"
  },
  "language_info": {
   "codemirror_mode": {
    "name": "ipython",
    "version": 3
   },
   "file_extension": ".py",
   "mimetype": "text/x-python",
   "name": "python",
   "nbconvert_exporter": "python",
   "pygments_lexer": "ipython3",
   "version": "3.6.5"
  }
 },
 "nbformat": 4,
 "nbformat_minor": 2
}
